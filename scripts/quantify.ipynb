{
 "cells": [
  {
   "cell_type": "code",
   "execution_count": 19,
   "metadata": {},
   "outputs": [],
   "source": [
    "import torch\n",
    "import os\n",
    "import cv2\n",
    "import numpy as np\n",
    "from ultralytics import YOLO\n",
    "import torchvision.transforms as transforms\n",
    "import torch.nn as nn\n",
    "import torchvision.models as models\n",
    "from PIL import Image, ImageOps\n",
    "from ultralytics import YOLO"
   ]
  },
  {
   "cell_type": "code",
   "execution_count": 5,
   "metadata": {},
   "outputs": [],
   "source": [
    "import os\n",
    "import shutil\n",
    "\n",
    "train_dir = \"./../data/VGG/train\"\n",
    "test_dir = \"./../data/VGG/test\"\n",
    "\n",
    "# Get a list of all directories in the train directory\n",
    "train_subdirs = [f for f in os.listdir(train_dir) if os.path.isdir(os.path.join(train_dir, f))]\n",
    "\n",
    "# Create corresponding directories in the test directory\n",
    "for subdir in train_subdirs:\n",
    "    test_subdir = os.path.join(test_dir, subdir)\n",
    "    os.makedirs(test_subdir, exist_ok=True)  # Create directory if it doesn't exist\n"
   ]
  },
  {
   "cell_type": "code",
   "execution_count": 6,
   "metadata": {},
   "outputs": [],
   "source": [
    "import random\n",
    "\n",
    "num_files_to_move = 20\n",
    "\n",
    "# Get a list of all directories in the train directory\n",
    "train_subdirs = [f for f in os.listdir(train_dir) if os.path.isdir(os.path.join(train_dir, f))]\n",
    "\n",
    "# Iterate over each subdirectory\n",
    "for subdir in train_subdirs:\n",
    "    # Create corresponding directory in the test directory if it doesn't exist\n",
    "    test_subdir = os.path.join(test_dir, subdir)\n",
    "    os.makedirs(test_subdir, exist_ok=True)\n",
    "    \n",
    "    # Get list of files in the current subdirectory\n",
    "    files_in_subdir = os.listdir(os.path.join(train_dir, subdir))\n",
    "    \n",
    "    # Randomly select 20 files\n",
    "    selected_files = random.sample(files_in_subdir, min(num_files_to_move, len(files_in_subdir)))\n",
    "    \n",
    "    # Move selected files to the corresponding test subdirectory\n",
    "    for file in selected_files:\n",
    "        src_file = os.path.join(train_dir, subdir, file)\n",
    "        dest_file = os.path.join(test_subdir, file)\n",
    "        shutil.move(src_file, dest_file)\n"
   ]
  },
  {
   "cell_type": "code",
   "execution_count": 4,
   "metadata": {},
   "outputs": [
    {
     "name": "stderr",
     "output_type": "stream",
     "text": [
      "/home/ashmitha/.local/lib/python3.8/site-packages/torchvision/models/_utils.py:208: UserWarning: The parameter 'pretrained' is deprecated since 0.13 and may be removed in the future, please use 'weights' instead.\n",
      "  warnings.warn(\n",
      "/home/ashmitha/.local/lib/python3.8/site-packages/torchvision/models/_utils.py:223: UserWarning: Arguments other than a weight enum or `None` for 'weights' are deprecated since 0.13 and may be removed in the future. The current behavior is equivalent to passing `weights=None`.\n",
      "  warnings.warn(msg)\n"
     ]
    },
    {
     "data": {
      "text/plain": [
       "VGG(\n",
       "  (features): Sequential(\n",
       "    (0): Conv2d(3, 64, kernel_size=(3, 3), stride=(1, 1), padding=(1, 1))\n",
       "    (1): ReLU(inplace=True)\n",
       "    (2): Conv2d(64, 64, kernel_size=(3, 3), stride=(1, 1), padding=(1, 1))\n",
       "    (3): ReLU(inplace=True)\n",
       "    (4): MaxPool2d(kernel_size=2, stride=2, padding=0, dilation=1, ceil_mode=False)\n",
       "    (5): Conv2d(64, 128, kernel_size=(3, 3), stride=(1, 1), padding=(1, 1))\n",
       "    (6): ReLU(inplace=True)\n",
       "    (7): Conv2d(128, 128, kernel_size=(3, 3), stride=(1, 1), padding=(1, 1))\n",
       "    (8): ReLU(inplace=True)\n",
       "    (9): MaxPool2d(kernel_size=2, stride=2, padding=0, dilation=1, ceil_mode=False)\n",
       "    (10): Conv2d(128, 256, kernel_size=(3, 3), stride=(1, 1), padding=(1, 1))\n",
       "    (11): ReLU(inplace=True)\n",
       "    (12): Conv2d(256, 256, kernel_size=(3, 3), stride=(1, 1), padding=(1, 1))\n",
       "    (13): ReLU(inplace=True)\n",
       "    (14): Conv2d(256, 256, kernel_size=(3, 3), stride=(1, 1), padding=(1, 1))\n",
       "    (15): ReLU(inplace=True)\n",
       "    (16): MaxPool2d(kernel_size=2, stride=2, padding=0, dilation=1, ceil_mode=False)\n",
       "    (17): Conv2d(256, 512, kernel_size=(3, 3), stride=(1, 1), padding=(1, 1))\n",
       "    (18): ReLU(inplace=True)\n",
       "    (19): Conv2d(512, 512, kernel_size=(3, 3), stride=(1, 1), padding=(1, 1))\n",
       "    (20): ReLU(inplace=True)\n",
       "    (21): Conv2d(512, 512, kernel_size=(3, 3), stride=(1, 1), padding=(1, 1))\n",
       "    (22): ReLU(inplace=True)\n",
       "    (23): MaxPool2d(kernel_size=2, stride=2, padding=0, dilation=1, ceil_mode=False)\n",
       "    (24): Conv2d(512, 512, kernel_size=(3, 3), stride=(1, 1), padding=(1, 1))\n",
       "    (25): ReLU(inplace=True)\n",
       "    (26): Conv2d(512, 512, kernel_size=(3, 3), stride=(1, 1), padding=(1, 1))\n",
       "    (27): ReLU(inplace=True)\n",
       "    (28): Conv2d(512, 512, kernel_size=(3, 3), stride=(1, 1), padding=(1, 1))\n",
       "    (29): ReLU(inplace=True)\n",
       "    (30): MaxPool2d(kernel_size=2, stride=2, padding=0, dilation=1, ceil_mode=False)\n",
       "  )\n",
       "  (avgpool): AdaptiveAvgPool2d(output_size=(7, 7))\n",
       "  (classifier): Sequential(\n",
       "    (0): Linear(in_features=25088, out_features=4096, bias=True)\n",
       "    (1): ReLU(inplace=True)\n",
       "    (2): Dropout(p=0.5, inplace=False)\n",
       "    (3): Linear(in_features=4096, out_features=4096, bias=True)\n",
       "    (4): ReLU(inplace=True)\n",
       "    (5): Dropout(p=0.5, inplace=False)\n",
       "    (6): Linear(in_features=4096, out_features=15, bias=True)\n",
       "  )\n",
       ")"
      ]
     },
     "execution_count": 4,
     "metadata": {},
     "output_type": "execute_result"
    }
   ],
   "source": [
    "# Load the VGG model\n",
    "model = models.vgg16(pretrained=False)  # Example model, replace with your loaded model\n",
    "model.classifier[6] = nn.Linear(4096, 15)\n",
    "\n",
    "# Load the state dictionary from the .pth file\n",
    "checkpoint = torch.load('../weights/vgg_weights.pth')\n",
    "\n",
    "# Load the state dictionary into the model\n",
    "model.load_state_dict(checkpoint)\n",
    "\n",
    "# Set the model to evaluation mode\n",
    "model.eval()"
   ]
  },
  {
   "cell_type": "code",
   "execution_count": 5,
   "metadata": {},
   "outputs": [],
   "source": [
    "test_images_path = \"../data/SMALL_GTSRB/Training/images/\"\n",
    "test_images = os.listdir(test_images_path)"
   ]
  },
  {
   "cell_type": "code",
   "execution_count": 11,
   "metadata": {},
   "outputs": [],
   "source": [
    "classes_yolo = ['20 km/h','30 km/h','50 km/h', '60 km/h', '70 km/h', '80 km/h', '100 km/h','120 km/h','Yield', 'Stop', 'Narrow Road','Men at Work', 'No Entry', '40 kmhr', 'UTurn']\n",
    "classes_vgg = ['20 km/h','30 km/h', \"Yield\", 'stop', '50 km/h', 'narrow road', 'men at work', '60 km/h', 'no entry', '70 km/h', '40 kmhr', '80 km/h', '100 km/h','120 km/h', 'UTurn']\n"
   ]
  },
  {
   "cell_type": "code",
   "execution_count": 34,
   "metadata": {},
   "outputs": [],
   "source": [
    "def preprocessing(img):\n",
    "        img = ImageOps.equalize(img)\n",
    "        return img\n",
    "\n",
    "def vgg_recog(image):\n",
    "    transform = transforms.Compose([\n",
    "            transforms.ToTensor(),  # Convert the images to PyTorch tensors\n",
    "            transforms.Resize((224, 224)),  # Resize the images to the desired size\n",
    "            # transforms.Lambda(lambda x: preprocessing(x)),\n",
    "            transforms.Normalize(mean=[0.485, 0.456, 0.406], std=[0.229, 0.224, 0.225])  # Normalize the image data\n",
    "        ])\n",
    "    \n",
    "    image = transform(image)\n",
    "    image = image.unsqueeze(0)\n",
    "    with torch.no_grad():\n",
    "        output = model(image)\n",
    "\n",
    "    probabilities = torch.nn.functional.softmax(output[0], dim=0)\n",
    "    probabilities_array = probabilities.numpy()\n",
    "    max_index = np.argmax(probabilities_array)\n",
    "    conf = np.max(probabilities_array)\n",
    "    if conf > 0.5:\n",
    "         return max_index\n",
    "    \n",
    "    else:\n",
    "        return -1\n",
    "    \n",
    "\n",
    "def yolo_recog(image):\n",
    "    results = yolo(image)\n",
    "\n",
    "    for result in results:\n",
    "        if len(result) !=0:\n",
    "            conf = result[0].boxes.conf\n",
    "            index = result[0].boxes.cls\n",
    "\n",
    "            if conf > 0.7:\n",
    "                return index\n",
    "    \n",
    "    return -1\n",
    "\n",
    "\n",
    "\n",
    "         \n",
    "\n",
    "    \n",
    "\n",
    "\n",
    "    "
   ]
  },
  {
   "cell_type": "code",
   "execution_count": 35,
   "metadata": {},
   "outputs": [],
   "source": [
    "total = 0\n",
    "vgg_crt = 0\n",
    "yolo_crt = 0"
   ]
  },
  {
   "cell_type": "code",
   "execution_count": 42,
   "metadata": {},
   "outputs": [],
   "source": [
    "import time"
   ]
  },
  {
   "cell_type": "code",
   "execution_count": 43,
   "metadata": {},
   "outputs": [
    {
     "name": "stderr",
     "output_type": "stream",
     "text": [
      "/home/ashmitha/.local/lib/python3.8/site-packages/torchvision/transforms/functional.py:1603: UserWarning: The default value of the antialias parameter of all the resizing transforms (Resize(), RandomResizedCrop(), etc.) will change from None to True in v0.17, in order to be consistent across the PIL and Tensor backends. To suppress this warning, directly pass antialias=True (recommended, future default), antialias=None (current default, which means False for Tensors and True for PIL), or antialias=False (only works on Tensors - PIL will still use antialiasing). This also applies if you are using the inference transforms from the models weights: update the call to weights.transforms(antialias=True).\n",
      "  warnings.warn(\n",
      "\n",
      "0: 640x640 1 Speed limit (120km/h), 85.0ms\n",
      "Speed: 15.9ms preprocess, 85.0ms inference, 11.0ms postprocess per image at shape (1, 3, 640, 640)\n"
     ]
    },
    {
     "name": "stdout",
     "output_type": "stream",
     "text": [
      "0.3826911449432373\n",
      "0.12920117378234863\n"
     ]
    }
   ],
   "source": [
    "for image_file in test_images:\n",
    "    total += 1\n",
    "    image = Image.open(test_images_path + image_file)\n",
    "\n",
    "    label_file = \"../data/SMALL_GTSRB/Training/labels/\" + image_file[:-3] + \"txt\"\n",
    "    with open(label_file, \"r\") as file:\n",
    "        first_line = file.readline()\n",
    "        elements = first_line.split()\n",
    "        truth = elements[0]\n",
    "        label = classes_yolo[int(truth)]\n",
    "        \n",
    "    # for vgg\n",
    "    start_time = time.time()\n",
    "    index  = vgg_recog(image)\n",
    "    vgg_time = time.time() - start_time\n",
    "    if index == -1:\n",
    "        continue\n",
    "    pred = classes_vgg[index]\n",
    "    vgg_crt += (pred == label)\n",
    "    print(vgg_time)\n",
    "    \n",
    "    # for yolo\n",
    "    start_time = time.time()\n",
    "    index  = yolo_recog(image)\n",
    "    yolo_time = time.time() - start_time\n",
    "    if index == -1:\n",
    "        continue\n",
    "    pred = classes_yolo[int(index.item())]\n",
    "    print(yolo_time)\n",
    "\n",
    "    yolo_crt += (pred == label)\n",
    "    break\n",
    "    "
   ]
  },
  {
   "cell_type": "code",
   "execution_count": 41,
   "metadata": {},
   "outputs": [
    {
     "data": {
      "text/plain": [
       "0.5190213337311651"
      ]
     },
     "execution_count": 41,
     "metadata": {},
     "output_type": "execute_result"
    }
   ],
   "source": [
    "vgg_crt / total\n"
   ]
  },
  {
   "cell_type": "code",
   "execution_count": 40,
   "metadata": {},
   "outputs": [
    {
     "data": {
      "text/plain": [
       "0.7783082201999105"
      ]
     },
     "execution_count": 40,
     "metadata": {},
     "output_type": "execute_result"
    }
   ],
   "source": [
    "yolo_crt / total"
   ]
  },
  {
   "cell_type": "markdown",
   "metadata": {},
   "source": [
    "DETECTION MODEL ACCURACY/ PRECISION/ RECALL"
   ]
  },
  {
   "cell_type": "code",
   "execution_count": null,
   "metadata": {},
   "outputs": [],
   "source": [
    "\"\"\" \n",
    "Detected correct, detected wrong, did not detect\n",
    "\"\"\""
   ]
  },
  {
   "cell_type": "code",
   "execution_count": 1,
   "metadata": {},
   "outputs": [],
   "source": [
    "import torch\n",
    "import numpy as np\n",
    "import cv2\n",
    "import os"
   ]
  },
  {
   "cell_type": "code",
   "execution_count": 21,
   "metadata": {},
   "outputs": [
    {
     "name": "stderr",
     "output_type": "stream",
     "text": [
      "YOLOv5 🚀 v7.0-212-g9974d51 Python-3.8.10 torch-2.0.1+cu117 CPU\n",
      "\n",
      "Fusing layers... \n",
      "Model summary: 157 layers, 7020913 parameters, 0 gradients, 15.8 GFLOPs\n",
      "Adding AutoShape... \n"
     ]
    }
   ],
   "source": [
    "detect_model = torch.hub.load('../yolov5/', 'custom', path='../weights/detect_weights.pt', force_reload=True, source='local')"
   ]
  },
  {
   "cell_type": "code",
   "execution_count": 3,
   "metadata": {},
   "outputs": [],
   "source": [
    "test_images_path = \"/home/ashmitha/traffic_sign_detection/data/GTSDB/train_detection/images\"\n",
    "test_images = os.listdir(test_images_path)\n",
    "\n"
   ]
  },
  {
   "cell_type": "code",
   "execution_count": 8,
   "metadata": {},
   "outputs": [
    {
     "data": {
      "text/plain": [
       "592"
      ]
     },
     "execution_count": 8,
     "metadata": {},
     "output_type": "execute_result"
    }
   ],
   "source": [
    "len(test_images)"
   ]
  },
  {
   "cell_type": "code",
   "execution_count": 4,
   "metadata": {},
   "outputs": [],
   "source": [
    "for image_file in test_images:\n",
    "    frame = cv2.imread(test_images_path + \"/\" + image_file)\n",
    "    results = detect_model(frame)\n",
    "\n",
    "    bounding_boxes = results.xyxy[0].cpu().numpy()\n",
    "    \n",
    "    for box in bounding_boxes:\n",
    "        x_min, y_min, x_max, y_max, confidence, class_id = box\n",
    "\n",
    "        cv2.rectangle(frame, (int(x_min), int(y_min)), (int(x_max), int(y_max)), (0, 255, 0), 2)\n",
    "\n",
    "    cv2.imshow(\"frame\", frame)\n",
    "\n",
    "\n",
    "\n",
    "    if cv2.waitKey(0) & 0xFF == ord('n'):\n",
    "        continue\n"
   ]
  },
  {
   "cell_type": "code",
   "execution_count": null,
   "metadata": {},
   "outputs": [],
   "source": [
    "cv2.destroyAllWindows()"
   ]
  },
  {
   "cell_type": "code",
   "execution_count": null,
   "metadata": {},
   "outputs": [],
   "source": [
    "# correct = 229 true positive\n",
    "# not detected = 37 false negative\n",
    "# wrong detect = 24 false positive"
   ]
  },
  {
   "cell_type": "markdown",
   "metadata": {},
   "source": [
    "RECOGNITION MODEL ACCURACY/ PRECISION/ RECALL"
   ]
  },
  {
   "cell_type": "code",
   "execution_count": 11,
   "metadata": {},
   "outputs": [],
   "source": [
    "from ultralytics import YOLO"
   ]
  },
  {
   "cell_type": "code",
   "execution_count": 9,
   "metadata": {},
   "outputs": [
    {
     "name": "stderr",
     "output_type": "stream",
     "text": [
      "YOLOv5 🚀 v7.0-212-g9974d51 Python-3.8.10 torch-2.0.1+cu117 CPU\n",
      "\n",
      "Fusing layers... \n",
      "Model summary: 157 layers, 7126096 parameters, 0 gradients, 16.1 GFLOPs\n",
      "Adding AutoShape... \n"
     ]
    }
   ],
   "source": [
    "recog_model_5 = torch.hub.load('../yolov5/', 'custom', path='../weights/best (2).pt', force_reload=True, source='local')"
   ]
  },
  {
   "cell_type": "code",
   "execution_count": 12,
   "metadata": {},
   "outputs": [],
   "source": [
    "recog_model_8 = YOLO('../weights/recog_weights.pt')  \n"
   ]
  },
  {
   "cell_type": "code",
   "execution_count": 5,
   "metadata": {},
   "outputs": [],
   "source": [
    "test_images_path = \"/home/ashmitha/traffic_sign_detection/test_images/Test\"\n",
    "test_images = os.listdir(test_images_path)\n",
    "\n"
   ]
  },
  {
   "cell_type": "code",
   "execution_count": 6,
   "metadata": {},
   "outputs": [],
   "source": [
    "total = 0"
   ]
  },
  {
   "cell_type": "code",
   "execution_count": null,
   "metadata": {},
   "outputs": [],
   "source": [
    "for image_file in test_images:\n",
    "    if total == 500:\n",
    "        break\n",
    "    total += 1\n",
    "\n",
    "    frame = cv2.imread(test_images_path + \"/\" + image_file)\n",
    "\n",
    "    predict = recog_model_8(frame)\n",
    "    \n",
    "    cv2.imshow(\"frame\", frame)\n",
    "\n",
    "    if cv2.waitKey(0) & 0xFF == ord('n'):\n",
    "        continue"
   ]
  },
  {
   "cell_type": "code",
   "execution_count": 20,
   "metadata": {},
   "outputs": [],
   "source": [
    "def red_color_seg(image):\n",
    "\n",
    "    hsv_image = cv2.cvtColor(image, cv2.COLOR_BGR2HSV)\n",
    "\n",
    "    # lower boundary RED color range values; Hue (0 - 10)\n",
    "    lower1 = np.array([0, 120, 0])\n",
    "    upper1 = np.array([10, 255, 255])\n",
    "\n",
    "    # upper boundary RED color range values; Hue (160 - 180)\n",
    "    lower2 = np.array([160,120,0])\n",
    "    upper2 = np.array([185,255,255])\n",
    "\n",
    "    lower_mask = cv2.inRange(hsv_image, lower1, upper1)\n",
    "    upper_mask = cv2.inRange(hsv_image, lower2, upper2)\n",
    "    red_mask = lower_mask | upper_mask\n",
    "\n",
    "    red_seg = cv2.bitwise_and(image, image, mask=red_mask)\n",
    "    cv2.imwrite(\"stage1.jpg\", red_seg)\n",
    "\n",
    "\n",
    "    # dont change 5\n",
    "    kernel = np.ones((5, 5), np.uint8)\n",
    "    red_mask = cv2.dilate(red_mask, kernel, iterations=1)\n",
    "    red_mask = cv2.morphologyEx(red_mask, cv2.MORPH_OPEN, kernel)\n",
    "    red_mask = cv2.morphologyEx(red_mask, cv2.MORPH_CLOSE, kernel)\n",
    "\n",
    "    # kernel = np.ones((7, 7), np.uint8)\n",
    "\n",
    "    red_segmented_image = cv2.bitwise_and(image, image, mask=red_mask)\n",
    "    # cv2.imwrite(\"stage2.jpg\", red_segmented_image)\n",
    "    # red_segmented_image = cv2.fastNlMeansDenoisingColored(red_segmented_image, None,30,30,15,30) \n",
    "\n",
    "    gray = cv2.cvtColor(red_segmented_image, cv2.COLOR_BGR2GRAY)\n",
    "\n",
    "    # Find contours in the opened maskqqqqqqqqq\n",
    "    contours, _ = cv2.findContours(gray, cv2.RETR_EXTERNAL, cv2.CHAIN_APPROX_SIMPLE)\n",
    "    min_area_threshold = 100\n",
    "    max_area_threshold = 8000\n",
    "    # Filter out contours with area less than the threshold and fill them with black color\n",
    "    for contour in contours:\n",
    "        area = cv2.contourArea(contour)\n",
    "        if area < min_area_threshold or area > max_area_threshold:\n",
    "            cv2.drawContours(gray, [contour], 0, (0, 255, 0), -1)\n",
    "\n",
    "\n",
    "\n",
    "    # kernel = np.ones((3, 3), np.uint8)\n",
    "    # red_mask = cv2.erode(red_mask, kernel, iterations=1)\n",
    "    red_segmented_image = cv2.bitwise_and(image, image, mask=gray)\n",
    "    # cv2.imwrite(\"stage3.jpg\", red_segmented_image)\n",
    "    # print(red_segmented_image.shape)\n",
    "\n",
    "    \n",
    "\n",
    "    # red_segmented_image = cv2.GaussianBlur(red_segmented_image, (7, 7), 0)\n",
    "    # red_segmented_image = cv2.fastNlMeansDenoisingColored(red_segmented_image, None,30,30,10,30) \n",
    "    # red_segmented_image = cv2.GaussianBlur(red_segmented_image, (5, 5), 0)\n",
    "    # image = cv2.addWeighted(image, 1, red_segmented_image, 0.5, 0)\n",
    "\n",
    "    return red_segmented_image, gray\n",
    "    # cv2.imshow(\"out\", red_segmented_image)\n",
    "    # cv2.waitKey(0)\n",
    "    # cv2.destroyAllWindows()"
   ]
  },
  {
   "cell_type": "markdown",
   "metadata": {},
   "source": [
    "VIDEO"
   ]
  },
  {
   "cell_type": "code",
   "execution_count": null,
   "metadata": {},
   "outputs": [],
   "source": [
    "detection_data = []\n",
    "recog_data = []"
   ]
  },
  {
   "cell_type": "code",
   "execution_count": 24,
   "metadata": {},
   "outputs": [
    {
     "name": "stderr",
     "output_type": "stream",
     "text": [
      "[ERROR:0@3430.566] global cap.cpp:164 open VIDEOIO(CV_IMAGES): raised OpenCV exception:\n",
      "\n",
      "OpenCV(4.8.0) /io/opencv/modules/videoio/src/cap_images.cpp:253: error: (-5:Bad argument) CAP_IMAGES: can't find starting number (in the name of file): /home/ashmitha/traffic_sign_detection/test_images/night_dtraight.mkv in function 'icvExtractPattern'\n",
      "\n",
      "\n"
     ]
    }
   ],
   "source": [
    "\n",
    "video_capture = cv2.VideoCapture('/home/ashmitha/traffic_sign_detection/test_images/night_dtraight.mkv')\n",
    "\n",
    "start_time_seconds = 1\n",
    "\n",
    "# Calculate the starting frame number\n",
    "fps = video_capture.get(cv2.CAP_PROP_FPS)\n",
    "start_frame = int(start_time_seconds * fps)\n",
    "\n",
    "# Set the starting frame position\n",
    "video_capture.set(cv2.CAP_PROP_POS_FRAMES, start_frame)\n",
    "\n",
    "# frame_rate = video_capture.get(cv2.CAP_PROP_FPS)\n",
    "# print(frame_rate)\n",
    "\n",
    "# # Calculate the new frame rate (double the original frame rate)\n",
    "# new_frame_rate = frame_rate * 10\n",
    "\n",
    "# # Set the new frame rate for the video capture\n",
    "# video_capture.set(cv2.CAP_PROP_FPS, new_frame_rate)\n",
    "# frame_rate = video_capture.get(cv2.CAP_PROP_FPS)\n",
    "# print(frame_rate)\n",
    "\n",
    "predictions = []\n"
   ]
  },
  {
   "cell_type": "code",
   "execution_count": 28,
   "metadata": {},
   "outputs": [],
   "source": [
    "def decision_criteria(predicted):\n",
    "    predicted =  np.array(predicted)\n",
    "    predicted_classes = predicted[:, 0]\n",
    "    confidences = predicted[:,1]\n",
    "    \n",
    "    unique_classes, class_counts = np.unique(predicted_classes, return_counts=True)\n",
    "    \n",
    "    for class_, count in zip(unique_classes, class_counts):\n",
    "        if count >= 8:\n",
    "            class_indices = np.where(predicted_classes == class_)[0]\n",
    "            class_confidences = confidences[class_indices]\n",
    "            median_confidence = np.median(class_confidences)\n",
    "            \n",
    "            if median_confidence > 0.85:\n",
    "                return True\n",
    "    \n",
    "    return False"
   ]
  },
  {
   "cell_type": "code",
   "execution_count": 26,
   "metadata": {},
   "outputs": [],
   "source": [
    "test_vdos_dir = os.listdir(\"../test_images/Day/\")"
   ]
  },
  {
   "cell_type": "code",
   "execution_count": 32,
   "metadata": {},
   "outputs": [
    {
     "name": "stdout",
     "output_type": "stream",
     "text": [
      "Gap: 30100.0 | Predicted Class: 25\n",
      "Gap: 2366.0 | Predicted Class: 3\n",
      "Gap: 1633.0 | Predicted Class: 32\n",
      "Gap: 1767.0 | Predicted Class: 37\n",
      "Gap: 1533.0 | Predicted Class: 1\n",
      "Gap: 11233.0 | Predicted Class: 24\n",
      "Gap: 1434.0 | Predicted Class: 1\n"
     ]
    }
   ],
   "source": [
    "for path in test_vdos_dir:\n",
    "    video_capture = cv2.VideoCapture('../test_images/Day/' + path)\n",
    "    \n",
    "\n",
    "    while True:\n",
    "        # Read the next frame\n",
    "        ret, frame = video_capture.read()\n",
    "        try:\n",
    "            frame_copy = frame.copy()\n",
    "        except AttributeError:\n",
    "            # Handle the case where frame is None\n",
    "            print(\"No more frames to read. Exiting loop.\")\n",
    "            break\n",
    "        \n",
    "        # MAsk    # Read the next frame\n",
    "        ret, frame = video_capture.read()\n",
    "        frame_copy = frame.copy()\n",
    "        \n",
    "        # MAsk\n",
    "        seg_frame, mask = red_color_seg(frame)\n",
    "\n",
    "        # Detection\n",
    "        results = detect_model(frame)\n",
    "        bounding_boxes = results.xyxy[0].cpu().numpy()\n",
    "        \n",
    "        for box in bounding_boxes:\n",
    "            x_min, y_min, x_max, y_max, confidence, class_id = box\n",
    "\n",
    "            # intersection and alter the confidence\n",
    "            if not mask[int(y_min):int(y_max), int(x_min):int(x_max)].any():\n",
    "                confidence = confidence * 0.5\n",
    "\n",
    "            # Threshold for detection\n",
    "            if  confidence > 0.4:\n",
    "                cropped_img = frame_copy[int(y_min):int(y_max), int(x_min):int(x_max)]\n",
    "\n",
    "                # Recognition Model\n",
    "                predict = model(cropped_img, verbose = False)\n",
    "\n",
    "                for result in predict:\n",
    "                    class_probs = result.probs\n",
    "                    class_names = model.names\n",
    "\n",
    "                    max_prob_index = class_probs.top1\n",
    "                    confidence_r = class_probs.top1conf.item()  \n",
    "\n",
    "                    if confidence_r > 0.65:\n",
    "\n",
    "                        predicted_class = class_names[max_prob_index]\n",
    "\n",
    "                        predictions.append([max_prob_index, confidence_r])\n",
    "                        if len(predictions) > 15:\n",
    "                            predictions = predictions[1:]\n",
    "\n",
    "                        if decision_criteria(predictions):\n",
    "                            class_recog = predicted_class\n",
    "                            cv2.putText(frame_copy, predicted_class + \"sign DETECTED\", (50, 50), cv2.FONT_HERSHEY_SIMPLEX, 2, (0, 255, 0), 2)\n",
    "                            cv2.rectangle(frame_copy, (int(x_min), int(y_min)), (int(x_max), int(y_max)), (0, 255, 0), 2)\n",
    "                            start = video_capture.get(cv2.CAP_PROP_POS_MSEC)\n",
    "                            predictions = []\n",
    "\n",
    "\n",
    "                            while True:\n",
    "                            \n",
    "                                ret, frame = video_capture.read()\n",
    "                                cv2.imshow(\"Original vs Processed\", frame)\n",
    "                                if cv2.waitKey(0) & 0xFF == ord('e'):\n",
    "                                    predictions = []\n",
    "                                    gap = video_capture.get(cv2.CAP_PROP_POS_MSEC) - start\n",
    "                                    print(f\"Gap: {gap} | Predicted Class: {class_recog}\")\n",
    "                                    break\n",
    "\n",
    "                                if cv2.waitKey(0) & 0xFF == ord('n'):\n",
    "                                    continue\n",
    "                            \n",
    "                            \n",
    "                        \n",
    "\n",
    "        # Display the concatenated frame\n",
    "        cv2.imshow(\"Original vs Processed\", frame_copy)\n",
    "        \n",
    "\n",
    "        # # Break the loop if 'q' is pressed\n",
    "        if cv2.waitKey(1) & 0xFF == ord('q'):\n",
    "\n",
    "            break\n",
    "\n",
    "        if cv2.waitKey(0) & 0xFF == ord('e'):\n",
    "            predictions = []\n",
    "\n",
    "\n",
    "        if cv2.waitKey(0) & 0xFF == ord('n'):\n",
    "            continue\n",
    "\n",
    "            \n",
    "\n",
    "\n",
    "    # Release the video capture object and close the display window\n",
    "    video_capture.release()\n",
    "    cv2.destroyAllWindows()\n",
    "        "
   ]
  },
  {
   "cell_type": "code",
   "execution_count": 4,
   "metadata": {},
   "outputs": [
    {
     "data": {
      "image/png": "[encoded data removed]",
      "text/plain": [
       "<Figure size 1400x700 with 1 Axes>"
      ]
     },
     "metadata": {},
     "output_type": "display_data"
    }
   ],
   "source": [
    "import matplotlib.pyplot as plt\n",
    "\n",
    "# List of gap values\n",
    "gaps_day = [\n",
    "    833.0, 1967.0, 2000.0, 3500.0, 4566.0, 1833.0000000000073, 1700.0000000000146,\n",
    "    1000.0, 3933.0, 1600.0, 599.9999999999854, 433.0, 399.99999999998545, 1633.0,\n",
    "    1800.0, 866.0, 300.0, 566.0, 1600.0, 699.9999999999982, 2667.000000000002, 700.0,\n",
    "    5567.0, 1500.0, 1767.0, 1667.0, 500.0, 1267.0, 967.0, 1200.0000000000018,\n",
    "    300.0000000000018, 4167.0, 733.0, 3800.0]\n",
    "\n",
    "gaps_night= [  \n",
    "    1600.0000000000018, 1466.9999999999982,\n",
    "    6267.0, 334.00000000000045, 2232.999999999999, 1866.0000000000018, 1800.0,\n",
    "    2133.0, 600.0, 600.0, 2334.000000000001, 7733.000000000002, 667.0, 22767.0,\n",
    "    25800.0, 5766.0, 2233.0, 1734.0, 5865.999999999998, 2232.9999999999964, 1467.0, 1733.0\n",
    "]\n",
    " \n",
    "# Creating the plot\n",
    "plt.figure(figsize=(14, 7))\n",
    "plt.plot(gaps_day, label='Day', )\n",
    "plt.plot(gaps_night, label='Night', )\n",
    "\n",
    "# plt.plot(gaps_day, label='Day', marker='o')\n",
    "# plt.plot(gaps_night, label='Night', marker='o')\n",
    "\n",
    "plt.title('Comparison of Time Gap During Day vs Night')\n",
    "plt.xlabel('Sample Index')\n",
    "plt.ylabel('Time Gap (msec)')\n",
    "plt.legend()\n",
    "plt.grid(True)\n",
    "\n",
    "# Display the plot\n",
    "plt.show()\n"
   ]
  },
  {
   "cell_type": "code",
   "execution_count": 5,
   "metadata": {},
   "outputs": [
    {
     "data": {
      "image/png": "[encoded data removed]",
      "text/plain": [
       "<Figure size 1200x700 with 1 Axes>"
      ]
     },
     "metadata": {},
     "output_type": "display_data"
    }
   ],
   "source": [
    "plt.figure(figsize=(12, 7))\n",
    "plt.hist(gaps_day, bins=20, alpha=0.75, label='Day')\n",
    "plt.hist(gaps_night, bins=20, alpha=0.75, label='Night', color='red')\n",
    "plt.title('Histogram of Gap Values During Day vs Night')\n",
    "plt.xlabel('Gap Value')\n",
    "plt.ylabel('Frequency')\n",
    "plt.legend()\n",
    "plt.grid(True)"
   ]
  },
  {
   "cell_type": "code",
   "execution_count": 7,
   "metadata": {},
   "outputs": [
    {
     "data": {
      "image/png": "[encoded data removed]",
      "text/plain": [
       "<Figure size 1200x700 with 1 Axes>"
      ]
     },
     "metadata": {},
     "output_type": "display_data"
    }
   ],
   "source": [
    "# Plot indices for day and night\n",
    "indices_day = list(range(len(gaps_day)))\n",
    "indices_night = list(range(len(gaps_night)))\n",
    "\n",
    "# Creating the scatter plot\n",
    "plt.figure(figsize=(12, 7))\n",
    "plt.scatter(indices_day, gaps_day, color='blue', label='Day')\n",
    "plt.scatter(indices_night, gaps_night, color='red', label='Night')\n",
    "plt.xlabel('Sample Index')\n",
    "plt.ylabel('Time Gap')\n",
    "plt.legend()\n",
    "plt.grid(True)\n",
    "\n",
    "# Show the plot\n",
    "plt.show()"
   ]
  },
  {
   "cell_type": "code",
   "execution_count": 2,
   "metadata": {},
   "outputs": [
    {
     "data": {
      "image/png": "[encoded data removed]",
      "text/plain": [
       "<Figure size 1200x600 with 1 Axes>"
      ]
     },
     "metadata": {},
     "output_type": "display_data"
    },
    {
     "data": {
      "image/png": "[encoded data removed]",
      "text/plain": [
       "<Figure size 1200x600 with 1 Axes>"
      ]
     },
     "metadata": {},
     "output_type": "display_data"
    }
   ],
   "source": [
    "gaps_day = [  \n",
    "    1600.0000000000018, 1466.9999999999982,\n",
    "    6267.0, 334.00000000000045, 2232.999999999999, 1866.0000000000018, 1800.0,\n",
    "    2133.0, 600.0, 600.0, 2334.000000000001, 7733.000000000002, 667.0, 22767.0,\n",
    "    25800.0, 5766.0, 2233.0, 1734.0, 5865.999999999998, 2232.9999999999964, 1467.0, 1733.0\n",
    "]\n",
    "\n",
    "# Plotting the raw gap values\n",
    "plt.figure(figsize=(12, 6))\n",
    "plt.plot(gaps_day, marker='o', linestyle='-')\n",
    "plt.title('Plot of Gap Values')\n",
    "plt.xlabel('Sample Index')\n",
    "plt.ylabel('Gap Value')\n",
    "plt.grid(True)\n",
    "\n",
    "# Showing the first plot\n",
    "plt.show()\n",
    "\n",
    "# Plotting a histogram of the gap values\n",
    "plt.figure(figsize=(12, 6))\n",
    "plt.hist(gaps_day, bins=20, alpha=0.75)\n",
    "plt.title('Histogram of Gap Values')\n",
    "plt.xlabel('Gap Value')\n",
    "plt.ylabel('Frequency')\n",
    "plt.grid(True)\n",
    "\n",
    "# Showing the histogram\n",
    "plt.show()"
   ]
  },
  {
   "cell_type": "code",
   "execution_count": 8,
   "metadata": {},
   "outputs": [
    {
     "name": "stdout",
     "output_type": "stream",
     "text": [
      "Range (ms)\tDay (%)\tNight (%)\n",
      "0 to 1000\t41.18%\t18.18%\n",
      "1001 to 2000\t38.24%\t31.82%\n",
      "2001 to 3000\t2.94%\t22.73%\n",
      "3001 to 4000\t8.82%\t0.00%\n",
      "4001 to inf\t8.82%\t27.27%\n"
     ]
    }
   ],
   "source": [
    "import numpy as np\n",
    "\n",
    "# Gap values for day and night\n",
    "gaps_day = [\n",
    "    833.0, 1967.0, 2000.0, 3500.0, 4566.0, 1833.0000000000073, 1700.0000000000146,\n",
    "    1000.0, 3933.0, 1600.0, 599.9999999999854, 433.0, 399.99999999998545, 1633.0,\n",
    "    1800.0, 866.0, 300.0, 566.0, 1600.0, 699.9999999999982, 2667.000000000002, 700.0,\n",
    "    5567.0, 1500.0, 1767.0, 1667.0, 500.0, 1267.0, 967.0, 1200.0000000000018,\n",
    "    300.0000000000018, 4167.0, 733.0, 3800.0\n",
    "]\n",
    "\n",
    "gaps_night = [\n",
    "    1600.0000000000018, 1466.9999999999982,\n",
    "    6267.0, 334.00000000000045, 2232.999999999999, 1866.0000000000018, 1800.0,\n",
    "    2133.0, 600.0, 600.0, 2334.000000000001, 7733.000000000002, 667.0, 22767.0,\n",
    "    25800.0, 5766.0, 2233.0, 1734.0, 5865.999999999998, 2232.9999999999964, 1467.0, 1733.0\n",
    "]\n",
    "\n",
    "# Define the ranges\n",
    "ranges = [(0, 1000), (1001, 2000), (2001, 3000), (3001, 4000), (4001, float('inf'))]\n",
    "\n",
    "# Function to categorize gaps\n",
    "def categorize_gaps(gaps):\n",
    "    counts = np.zeros(len(ranges))\n",
    "    for gap in gaps:\n",
    "        for i, (low, high) in enumerate(ranges):\n",
    "            if low <= gap <= high:\n",
    "                counts[i] += 1\n",
    "                break\n",
    "    return counts\n",
    "\n",
    "# Categorize the day and night gaps\n",
    "day_counts = categorize_gaps(gaps_day)\n",
    "night_counts = categorize_gaps(gaps_night)\n",
    "\n",
    "# Calculate percentages\n",
    "day_percentages = (day_counts / len(gaps_day)) * 100\n",
    "night_percentages = (night_counts / len(gaps_night)) * 100\n",
    "\n",
    "# Printing the table\n",
    "print(\"Range (ms)\\tDay (%)\\tNight (%)\")\n",
    "for i, (low, high) in enumerate(ranges):\n",
    "    print(f\"{low} to {high}\\t{day_percentages[i]:.2f}%\\t{night_percentages[i]:.2f}%\")\n"
   ]
  },
  {
   "cell_type": "code",
   "execution_count": 9,
   "metadata": {},
   "outputs": [
    {
     "data": {
      "image/png": "[encoded data removed]",
      "text/plain": [
       "<Figure size 1000x600 with 1 Axes>"
      ]
     },
     "metadata": {},
     "output_type": "display_data"
    }
   ],
   "source": [
    "import matplotlib.pyplot as plt\n",
    "\n",
    "# Data from the table\n",
    "ranges = [\"0 to 1000\", \"1001 to 2000\", \"2001 to 3000\", \"3001 to 4000\", \"4001 to inf\"]\n",
    "day_percentages = [41.18, 38.24, 2.94, 8.82, 8.82]\n",
    "night_percentages = [18.18, 31.82, 22.73, 0.00, 27.27]\n",
    "\n",
    "x = range(len(ranges))  # the label locations\n",
    "\n",
    "fig, ax = plt.subplots(figsize=(10, 6))\n",
    "bar_width = 0.35  # the width of the bars\n",
    "\n",
    "rects1 = ax.bar(x, day_percentages, bar_width, label='Day')\n",
    "rects2 = ax.bar([p + bar_width for p in x], night_percentages, bar_width, label='Night')\n",
    "\n",
    "# Add some text for labels, title and custom x-axis tick labels, etc.\n",
    "ax.set_xlabel('Range (ms)')\n",
    "ax.set_ylabel('Percentages (%)')\n",
    "ax.set_title('Percentage Distribution of Time Gaps by Day and Night')\n",
    "ax.set_xticks([p + bar_width / 2 for p in x])\n",
    "ax.set_xticklabels(ranges)\n",
    "ax.legend()\n",
    "\n",
    "# Function to add a label above each bar\n",
    "def autolabel(rects):\n",
    "    \"\"\"Attach a text label above each bar in *rects*, displaying its height.\"\"\"\n",
    "    for rect in rects:\n",
    "        height = rect.get_height()\n",
    "        ax.annotate('{}'.format(height),\n",
    "                    xy=(rect.get_x() + rect.get_width() / 2, height),\n",
    "                    xytext=(0, 3),  # 3 points vertical offset\n",
    "                    textcoords=\"offset points\",\n",
    "                    ha='center', va='bottom')\n",
    "\n",
    "# Call the function to attach the labels on the bars\n",
    "autolabel(rects1)\n",
    "autolabel(rects2)\n",
    "\n",
    "fig.tight_layout()\n",
    "\n",
    "plt.show()\n"
   ]
  },
  {
   "cell_type": "code",
   "execution_count": 6,
   "metadata": {},
   "outputs": [],
   "source": [
    "classes = ['20 km/h','30 km/h','50 km/h', '60 km/h', '70 km/h', '80 km/h', '100 km/h','120 km/h','Yield', 'Stop', 'Narrow Road','Men at Work', 'No Entry']"
   ]
  },
  {
   "cell_type": "code",
   "execution_count": 146,
   "metadata": {},
   "outputs": [],
   "source": [
    "import matplotlib.pyplot as plt"
   ]
  },
  {
   "cell_type": "code",
   "execution_count": 236,
   "metadata": {},
   "outputs": [],
   "source": [
    "start_time = 0\n"
   ]
  },
  {
   "cell_type": "code",
   "execution_count": 237,
   "metadata": {},
   "outputs": [],
   "source": [
    "file = 0"
   ]
  },
  {
   "cell_type": "code",
   "execution_count": null,
   "metadata": {},
   "outputs": [],
   "source": []
  },
  {
   "cell_type": "code",
   "execution_count": 175,
   "metadata": {},
   "outputs": [],
   "source": [
    "import csv"
   ]
  },
  {
   "cell_type": "code",
   "execution_count": 188,
   "metadata": {},
   "outputs": [],
   "source": []
  },
  {
   "cell_type": "code",
   "execution_count": 257,
   "metadata": {},
   "outputs": [],
   "source": [
    "first_det = True"
   ]
  },
  {
   "cell_type": "code",
   "execution_count": 268,
   "metadata": {},
   "outputs": [],
   "source": [
    "while True:\n",
    "    # Read the next frame\n",
    "    ret, frame = video_capture.read()\n",
    "    # cv2.imshow(\"out\", frame)\n",
    "\n",
    "    frame_copy = frame.copy()\n",
    "    \n",
    "    seg_frame, mask = red_color_seg(frame)\n",
    "\n",
    "    results = detect_model(frame)\n",
    "\n",
    "    bounding_boxes = results.xyxy[0].cpu().numpy()\n",
    "    \n",
    "    for box in bounding_boxes:\n",
    "        x_min, y_min, x_max, y_max, confidence, class_id = box\n",
    "\n",
    "        if not mask[int(y_min):int(y_max), int(x_min):int(x_max)].any():\n",
    "            confidence = confidence * 0.5\n",
    "\n",
    "        if  confidence > 0.4:\n",
    "            cropped_img = frame_copy[int(y_min):int(y_max), int(x_min):int(x_max)]\n",
    "            predict = model(cropped_img, verbose = False)\n",
    "\n",
    "            for result in predict:\n",
    "                # Get the predicted class labels and probabilities\n",
    "                class_probs = result.probs\n",
    "                class_names = model.names\n",
    "\n",
    "                # Find the index of the class with the highest probability\n",
    "                max_prob_index = class_probs.top1\n",
    "                confidence_r = class_probs.top1conf.item()  # Maximum probability value\n",
    "\n",
    "                # Get the predicted class label using the index\n",
    "                predicted_class = class_names[max_prob_index]\n",
    "\n",
    "\n",
    "        \n",
    "                cv2.putText(frame_copy, predicted_class, (50, 50), cv2.FONT_HERSHEY_SIMPLEX, 2, (0, 255, 0), 2)\n",
    "                cv2.rectangle(frame_copy, (int(x_min), int(y_min)), (int(x_max), int(y_max)), (0, 255, 0), 2)\n",
    "                detection_data.append([video_capture.get(cv2.CAP_PROP_POS_MSEC) - start_time, confidence])\n",
    "                recog_data.append([video_capture.get(cv2.CAP_PROP_POS_MSEC) - start_time, confidence_r, predicted_class])\n",
    "\n",
    "                if first_det:\n",
    "                    time_gap = video_capture.get(cv2.CAP_PROP_POS_MSEC)-start_time\n",
    "                    first_det = False\n",
    "\n",
    "    # for box in bounding_boxes:\n",
    "    #     x_min, y_min, x_max, y_max, confidence, class_id = box\n",
    "    #     if confidence > 0.4:\n",
    "    #         cv2.rectangle(frame_copy, (int(x_min), int(y_min)), (int(x_max), int(y_max)), (0, 255, 0), 2)\n",
    "\n",
    "\n",
    "\n",
    "    concatenated_frame = cv2.hconcat([frame, seg_frame])\n",
    "\n",
    "\n",
    "    # Display the concatenated frame\n",
    "    cv2.imshow(\"Original vs Processed\", frame_copy)\n",
    "    \n",
    "\n",
    "    # # Break the loop if 'q' is pressed\n",
    "    if cv2.waitKey(1) & 0xFF == ord('q'):\n",
    "        break\n",
    "\n",
    "    if cv2.waitKey(0) & 0xFF == ord('n'):\n",
    "        continue\n",
    "\n",
    "    if cv2.waitKey(0) & 0xFF == ord('s'):\n",
    "        detection_data = []\n",
    "        recog_data = []\n",
    "        first_det = True\n",
    "\n",
    "        start_time = cv2.CAP_PROP_POS_MSEC\n",
    "\n",
    "\n",
    "\n",
    "    if cv2.waitKey(0) & 0xFF == ord('e'):\n",
    "        if len(detection_data) == 0:\n",
    "            continue\n",
    "        detection_data = np.array(detection_data)\n",
    "        recog_data = np.array(recog_data)\n",
    "\n",
    "        fig, (ax1, ax2) = plt.subplots(1, 2)\n",
    "\n",
    "        # Plot data on the first subplot\n",
    "        ax1.plot(detection_data[:, 0], detection_data[:, 1], 'r-')\n",
    "        ax1.set_title(f'Detection plot | time gap = {time_gap}')\n",
    "\n",
    "        # Plot data on the second subplot\n",
    "        ax2.plot(recog_data[:, 0].astype(np.float32), recog_data[:, 1].astype(np.float32), 'b-')\n",
    "        ax2.set_title('Recognition Plot')\n",
    "\n",
    "        # Adjust layout to prevent overlapping\n",
    "        plt.tight_layout()\n",
    "\n",
    "# Save the plot as an image (e.g., PNG format)\n",
    "        plt.savefig(f'plot_image_{file}.png')\n",
    "\n",
    "\n",
    "        with open(\"pred_class.csv\", 'a', newline='') as csvfile:\n",
    "            writer = csv.writer(csvfile)\n",
    "\n",
    "            writer.writerow(recog_data)\n",
    "        detection_data = []\n",
    "        recog_data = []\n",
    "\n",
    "     \n",
    "        file += 1\n",
    "\n",
    "\n",
    "\n",
    "# Release the video capture object and close the display window\n",
    "video_capture.release()\n",
    "cv2.destroyAllWindows()"
   ]
  },
  {
   "cell_type": "code",
   "execution_count": 215,
   "metadata": {},
   "outputs": [],
   "source": [
    "        recog_data = []\n"
   ]
  },
  {
   "cell_type": "code",
   "execution_count": 208,
   "metadata": {},
   "outputs": [
    {
     "ename": "IndexError",
     "evalue": "too many indices for array: array is 1-dimensional, but 2 were indexed",
     "output_type": "error",
     "traceback": [
      "\u001b[0;31m---------------------------------------------------------------------------\u001b[0m",
      "\u001b[0;31mIndexError\u001b[0m                                Traceback (most recent call last)",
      "\u001b[1;32m/home/ashmitha/traffic_sign_detection/scripts/quantify.ipynb Cell 44\u001b[0m line \u001b[0;36m6\n\u001b[1;32m      <a href='vscode-notebook-cell:/home/ashmitha/traffic_sign_detection/scripts/quantify.ipynb#Y121sZmlsZQ%3D%3D?line=0'>1</a>\u001b[0m \u001b[39mimport\u001b[39;00m \u001b[39mmatplotlib\u001b[39;00m\u001b[39m.\u001b[39;00m\u001b[39mpyplot\u001b[39;00m \u001b[39mas\u001b[39;00m \u001b[39mplt\u001b[39;00m\n\u001b[1;32m      <a href='vscode-notebook-cell:/home/ashmitha/traffic_sign_detection/scripts/quantify.ipynb#Y121sZmlsZQ%3D%3D?line=2'>3</a>\u001b[0m \u001b[39m# Assuming recog_data is a NumPy array\u001b[39;00m\n\u001b[1;32m      <a href='vscode-notebook-cell:/home/ashmitha/traffic_sign_detection/scripts/quantify.ipynb#Y121sZmlsZQ%3D%3D?line=3'>4</a>\u001b[0m \u001b[39m# recog_data[:, 0] represents the x-values, and recog_data[:, 1] represents the y-values\u001b[39;00m\n\u001b[1;32m      <a href='vscode-notebook-cell:/home/ashmitha/traffic_sign_detection/scripts/quantify.ipynb#Y121sZmlsZQ%3D%3D?line=4'>5</a>\u001b[0m \u001b[39m# recog_data = recog_data[:,0].astype(np.float32)\u001b[39;00m\n\u001b[0;32m----> <a href='vscode-notebook-cell:/home/ashmitha/traffic_sign_detection/scripts/quantify.ipynb#Y121sZmlsZQ%3D%3D?line=5'>6</a>\u001b[0m recog_data \u001b[39m=\u001b[39m recog_data[:,\u001b[39m1\u001b[39;49m]\u001b[39m.\u001b[39mastype(np\u001b[39m.\u001b[39mfloat32)\n\u001b[1;32m      <a href='vscode-notebook-cell:/home/ashmitha/traffic_sign_detection/scripts/quantify.ipynb#Y121sZmlsZQ%3D%3D?line=8'>9</a>\u001b[0m \u001b[39m# Plot the data\u001b[39;00m\n\u001b[1;32m     <a href='vscode-notebook-cell:/home/ashmitha/traffic_sign_detection/scripts/quantify.ipynb#Y121sZmlsZQ%3D%3D?line=9'>10</a>\u001b[0m plt\u001b[39m.\u001b[39mplot(recog_data[:, \u001b[39m0\u001b[39m], recog_data[:, \u001b[39m1\u001b[39m], \u001b[39m'\u001b[39m\u001b[39mb-\u001b[39m\u001b[39m'\u001b[39m)\n",
      "\u001b[0;31mIndexError\u001b[0m: too many indices for array: array is 1-dimensional, but 2 were indexed"
     ]
    }
   ],
   "source": [
    "import matplotlib.pyplot as plt\n",
    "\n",
    "# Assuming recog_data is a NumPy array\n",
    "# recog_data[:, 0] represents the x-values, and recog_data[:, 1] represents the y-values\n",
    "# recog_data = recog_data[:,0].astype(np.float32)\n",
    "recog_data = recog_data[:,1].astype(np.float32)\n",
    "\n",
    "\n",
    "# Plot the data\n",
    "plt.plot(recog_data[:, 0], recog_data[:, 1], 'b-')\n",
    "\n",
    "# Set the title of the plot\n",
    "plt.title('Recognition Plot')\n",
    "\n",
    "# Show the plot\n",
    "plt.show()\n"
   ]
  },
  {
   "cell_type": "code",
   "execution_count": 204,
   "metadata": {},
   "outputs": [
    {
     "data": {
      "text/plain": [
       "array(['13634.0', '13668.000000000002', '13701.0', '13834.0', '13868.0', '13901.0', '13901.0', '13934.000000000002', '13934.000000000002', '13968.0', '13968.0', '14001.0', '14034.0', '14068.0', '14134.0', '14168.000000000002', '14201.0', '14234.0', '14301.0', '14334.0', '14368.0', '14401.0', '14434.000000000002',\n",
       "       '14468.0', '14468.0', '14501.0', '14568.0', '14601.0', '14634.0', '14668.000000000002', '14701.0', '14734.0', '14768.0', '14768.0', '14801.0', '14868.0', '14868.0', '14934.000000000002', '14968.0', '15001.0', '15034.0', '15134.0', '15168.000000000002'], dtype='<U32')"
      ]
     },
     "execution_count": 204,
     "metadata": {},
     "output_type": "execute_result"
    }
   ],
   "source": [
    "recog_data[:, 0]"
   ]
  },
  {
   "cell_type": "markdown",
   "metadata": {},
   "source": [
    "YOLO with new classes"
   ]
  },
  {
   "cell_type": "code",
   "execution_count": 30,
   "metadata": {},
   "outputs": [
    {
     "name": "stderr",
     "output_type": "stream",
     "text": [
      "\n",
      "                   from  n    params  module                                       arguments                     \n",
      "  0                  -1  1       464  ultralytics.nn.modules.conv.Conv             [3, 16, 3, 2]                 \n",
      "  1                  -1  1      4672  ultralytics.nn.modules.conv.Conv             [16, 32, 3, 2]                \n",
      "  2                  -1  1      7360  ultralytics.nn.modules.block.C2f             [32, 32, 1, True]             \n",
      "  3                  -1  1     18560  ultralytics.nn.modules.conv.Conv             [32, 64, 3, 2]                \n",
      "  4                  -1  2     49664  ultralytics.nn.modules.block.C2f             [64, 64, 2, True]             \n",
      "  5                  -1  1     73984  ultralytics.nn.modules.conv.Conv             [64, 128, 3, 2]               \n",
      "  6                  -1  2    197632  ultralytics.nn.modules.block.C2f             [128, 128, 2, True]           \n",
      "  7                  -1  1    295424  ultralytics.nn.modules.conv.Conv             [128, 256, 3, 2]              \n",
      "  8                  -1  1    460288  ultralytics.nn.modules.block.C2f             [256, 256, 1, True]           \n",
      "  9                  -1  1   1611240  ultralytics.nn.modules.head.Classify         [256, 1000]                   \n"
     ]
    },
    {
     "name": "stderr",
     "output_type": "stream",
     "text": [
      "YOLOv8n-cls summary: 99 layers, 2719288 parameters, 2719288 gradients, 4.4 GFLOPs\n",
      "Transferred 158/158 items from pretrained weights\n",
      "New https://pypi.org/project/ultralytics/8.2.6 available 😃 Update with 'pip install -U ultralytics'\n",
      "Ultralytics YOLOv8.0.164 🚀 Python-3.8.10 torch-2.0.1+cu117 CPU (11th Gen Intel Core(TM) i7-1195G7 2.90GHz)\n",
      "\u001b[34m\u001b[1mengine/trainer: \u001b[0mtask=classify, mode=train, model=./yolov8n-cls.yaml, data=../data/VGG/, epochs=5, patience=50, batch=16, imgsz=64, save=True, save_period=-1, cache=False, device=None, workers=8, project=None, name=None, exist_ok=False, pretrained=True, optimizer=auto, verbose=True, seed=0, deterministic=True, single_cls=False, rect=False, cos_lr=False, close_mosaic=10, resume=False, amp=True, fraction=1.0, profile=False, freeze=None, overlap_mask=True, mask_ratio=4, dropout=0.0, val=True, split=val, save_json=False, save_hybrid=False, conf=None, iou=0.7, max_det=300, half=False, dnn=False, plots=True, source=None, show=False, save_txt=False, save_conf=False, save_crop=False, show_labels=True, show_conf=True, vid_stride=1, stream_buffer=False, line_width=None, visualize=False, augment=False, agnostic_nms=False, classes=None, retina_masks=False, boxes=True, format=torchscript, keras=False, optimize=False, int8=False, dynamic=False, simplify=False, opset=None, workspace=4, nms=False, lr0=0.01, lrf=0.01, momentum=0.937, weight_decay=0.0005, warmup_epochs=3.0, warmup_momentum=0.8, warmup_bias_lr=0.1, box=7.5, cls=0.5, dfl=1.5, pose=12.0, kobj=1.0, label_smoothing=0.0, nbs=64, hsv_h=0.015, hsv_s=0.7, hsv_v=0.4, degrees=0.0, translate=0.1, scale=0.5, shear=0.0, perspective=0.0, flipud=0.0, fliplr=0.5, mosaic=1.0, mixup=0.0, copy_paste=0.0, cfg=None, tracker=botsort.yaml, save_dir=runs/classify/train5\n",
      "\u001b[34m\u001b[1mtrain:\u001b[0m /home/ashmitha/traffic_sign_detection/data/VGG/train... found 6958 images in 16 classes ✅ \n",
      "\u001b[34m\u001b[1mval:\u001b[0m None...\n",
      "\u001b[34m\u001b[1mtest:\u001b[0m /home/ashmitha/traffic_sign_detection/data/VGG/test... found 140 images in 16 classes ✅ \n",
      "Overriding model.yaml nc=1000 with nc=16\n",
      "\n",
      "                   from  n    params  module                                       arguments                     \n",
      "  0                  -1  1       464  ultralytics.nn.modules.conv.Conv             [3, 16, 3, 2]                 \n",
      "  1                  -1  1      4672  ultralytics.nn.modules.conv.Conv             [16, 32, 3, 2]                \n",
      "  2                  -1  1      7360  ultralytics.nn.modules.block.C2f             [32, 32, 1, True]             \n",
      "  3                  -1  1     18560  ultralytics.nn.modules.conv.Conv             [32, 64, 3, 2]                \n",
      "  4                  -1  2     49664  ultralytics.nn.modules.block.C2f             [64, 64, 2, True]             \n",
      "  5                  -1  1     73984  ultralytics.nn.modules.conv.Conv             [64, 128, 3, 2]               \n",
      "  6                  -1  2    197632  ultralytics.nn.modules.block.C2f             [128, 128, 2, True]           \n",
      "  7                  -1  1    295424  ultralytics.nn.modules.conv.Conv             [128, 256, 3, 2]              \n",
      "  8                  -1  1    460288  ultralytics.nn.modules.block.C2f             [256, 256, 1, True]           \n",
      "  9                  -1  1    350736  ultralytics.nn.modules.head.Classify         [256, 16]                     \n",
      "YOLOv8n-cls summary: 99 layers, 1458784 parameters, 1458784 gradients, 3.4 GFLOPs\n",
      "Transferred 156/158 items from pretrained weights\n",
      "\u001b[34m\u001b[1mTensorBoard: \u001b[0mStart with 'tensorboard --logdir runs/classify/train5', view at http://localhost:6006/\n",
      "\u001b[34m\u001b[1mtrain: \u001b[0mScanning /home/ashmitha/traffic_sign_detection/data/VGG/train... 6958 images, 0 corrupt: 100%|██████████| 6958/6958 [00:00<?, ?it/s]\n",
      "\u001b[34m\u001b[1mval: \u001b[0mScanning /home/ashmitha/traffic_sign_detection/data/VGG/test... 140 images, 0 corrupt: 100%|██████████| 140/140 [00:00<?, ?it/s]\n",
      "\u001b[34m\u001b[1moptimizer:\u001b[0m AdamW(lr=0.000714, momentum=0.9) with parameter groups 26 weight(decay=0.0), 27 weight(decay=0.0005), 27 bias(decay=0.0)\n",
      "Image sizes 64 train, 64 val\n",
      "Using 0 dataloader workers\n",
      "Logging results to \u001b[1mruns/classify/train5\u001b[0m\n",
      "Starting training for 5 epochs...\n",
      "\n",
      "      Epoch    GPU_mem       loss  Instances       Size\n",
      "        1/5         0G     0.3504         14         64: 100%|██████████| 435/435 [00:21<00:00, 19.86it/s]\n",
      "               classes   top1_acc   top5_acc: 100%|██████████| 5/5 [00:00<00:00, 31.00it/s]\n",
      "                   all      0.886      0.986\n",
      "\n",
      "      Epoch    GPU_mem       loss  Instances       Size\n",
      "        2/5         0G    0.05066         14         64: 100%|██████████| 435/435 [00:20<00:00, 21.44it/s]\n",
      "               classes   top1_acc   top5_acc: 100%|██████████| 5/5 [00:00<00:00, 31.11it/s]\n",
      "                   all      0.971          1\n",
      "\n",
      "      Epoch    GPU_mem       loss  Instances       Size\n",
      "        3/5         0G    0.01858         14         64: 100%|██████████| 435/435 [00:20<00:00, 21.32it/s]\n",
      "               classes   top1_acc   top5_acc: 100%|██████████| 5/5 [00:00<00:00, 27.26it/s]\n",
      "                   all      0.971          1\n",
      "\n",
      "      Epoch    GPU_mem       loss  Instances       Size\n",
      "        4/5         0G   0.007739         14         64: 100%|██████████| 435/435 [00:20<00:00, 21.39it/s]\n",
      "               classes   top1_acc   top5_acc: 100%|██████████| 5/5 [00:00<00:00, 34.85it/s]\n",
      "                   all      0.971          1\n",
      "\n",
      "      Epoch    GPU_mem       loss  Instances       Size\n",
      "        5/5         0G   0.003755         14         64: 100%|██████████| 435/435 [00:20<00:00, 21.25it/s]\n",
      "               classes   top1_acc   top5_acc: 100%|██████████| 5/5 [00:00<00:00, 24.75it/s]\n",
      "                   all      0.979          1\n",
      "\n",
      "5 epochs completed in 0.030 hours.\n",
      "Optimizer stripped from runs/classify/train5/weights/last.pt, 3.1MB\n",
      "Optimizer stripped from runs/classify/train5/weights/best.pt, 3.1MB\n",
      "Results saved to \u001b[1mruns/classify/train5\u001b[0m\n"
     ]
    }
   ],
   "source": [
    "from ultralytics import YOLO\n",
    "\n",
    "# Load a model\n",
    "model = YOLO('./yolov8n-cls.yaml').load('yolov8n-cls.pt')  # build from YAML and transfer weights\n",
    "\n",
    "# Train the model\n",
    "results = model.train(data='../data/VGG/', epochs=5, imgsz=64)"
   ]
  },
  {
   "cell_type": "code",
   "execution_count": 6,
   "metadata": {},
   "outputs": [
    {
     "name": "stderr",
     "output_type": "stream",
     "text": [
      "\n",
      "0: 640x640 37 0.14, 13 0.10, 40kmhr 0.08, 4 0.07, 8 0.06, 1: 640x640 37 0.16, 13 0.09, 40kmhr 0.08, 2 0.07, 4 0.06, 2: 640x640 37 0.13, 40kmhr 0.12, 13 0.10, 4 0.08, 8 0.08, 3: 640x640 40kmhr 0.14, 37 0.10, 13 0.10, 25 0.08, 32 0.06, 4: 640x640 40kmhr 0.13, 37 0.13, 13 0.10, 32 0.07, 25 0.07, 5: 640x640 40kmhr 0.12, 37 0.10, 13 0.08, 25 0.08, 2 0.07, 6: 640x640 40kmhr 0.13, 37 0.12, 13 0.11, 25 0.07, 2 0.06, 7: 640x640 13 0.11, 37 0.09, 40kmhr 0.08, 32 0.07, 1 0.07, 8: 640x640 37 0.16, 13 0.12, 40kmhr 0.09, 4 0.08, 8 0.08, 9: 640x640 37 0.12, 13 0.11, 40kmhr 0.08, 4 0.07, 8 0.07, 10: 640x640 37 0.20, 13 0.10, 40kmhr 0.08, 2 0.07, 7 0.06, 11: 640x640 37 0.19, 40kmhr 0.12, 13 0.11, 8 0.08, 4 0.08, 12: 640x640 37 0.14, 40kmhr 0.10, 13 0.10, 4 0.08, 8 0.07, 13: 640x640 37 0.16, 13 0.09, 40kmhr 0.08, 4 0.07, 2 0.06, 14: 640x640 37 0.12, 13 0.11, 40kmhr 0.10, 4 0.06, 32 0.06, 15: 640x640 37 0.15, 13 0.13, 40kmhr 0.09, 8 0.08, 4 0.07, 16: 640x640 40kmhr 0.14, 13 0.13, 37 0.12, 4 0.10, 8 0.09, 17: 640x640 37 0.16, 40kmhr 0.13, 13 0.12, 8 0.09, 4 0.09, 18: 640x640 37 0.15, 40kmhr 0.13, 13 0.11, 4 0.08, 8 0.08, 19: 640x640 40kmhr 0.12, 37 0.12, 13 0.11, 4 0.10, 8 0.09, 20: 640x640 37 0.19, 13 0.16, 40kmhr 0.13, 8 0.12, 4 0.10, 21: 640x640 40kmhr 0.12, 37 0.12, 13 0.10, 4 0.08, 8 0.07, 22: 640x640 37 0.16, 13 0.10, 40kmhr 0.09, 4 0.07, 8 0.06, 23: 640x640 37 0.12, 13 0.10, 40kmhr 0.09, 4 0.07, 5 0.06, 24: 640x640 37 0.12, 13 0.09, 40kmhr 0.09, 2 0.06, 4 0.06, 25: 640x640 37 0.16, 40kmhr 0.09, 13 0.09, 4 0.07, 7 0.06, 26: 640x640 37 0.13, 13 0.09, 40kmhr 0.09, 4 0.07, 5 0.06, 27: 640x640 37 0.16, 40kmhr 0.12, 13 0.11, 4 0.10, 8 0.08, 28: 640x640 37 0.12, 13 0.10, 40kmhr 0.10, 1 0.07, 2 0.06, 29: 640x640 37 0.12, 40kmhr 0.10, 13 0.09, 2 0.07, 4 0.06, 30: 640x640 37 0.15, 40kmhr 0.12, 13 0.11, 4 0.09, 8 0.09, 31: 640x640 37 0.13, 13 0.10, 40kmhr 0.08, 4 0.07, 2 0.06, 1473.9ms\n",
      "Speed: 0.0ms preprocess, 46.1ms inference, 0.0ms postprocess per image at shape (1, 3, 640, 640)\n"
     ]
    },
    {
     "ename": "TypeError",
     "evalue": "max() received an invalid combination of arguments - got (list, int), but expected one of:\n * (Tensor input, *, Tensor out)\n * (Tensor input, Tensor other, *, Tensor out)\n * (Tensor input, int dim, bool keepdim, *, tuple of Tensors out)\n * (Tensor input, name dim, bool keepdim, *, tuple of Tensors out)\n",
     "output_type": "error",
     "traceback": [
      "\u001b[0;31m---------------------------------------------------------------------------\u001b[0m",
      "\u001b[0;31mTypeError\u001b[0m                                 Traceback (most recent call last)",
      "\u001b[1;32m/home/ashmitha/traffic_sign_detection/scripts/quantify.ipynb Cell 52\u001b[0m line \u001b[0;36m3\n\u001b[1;32m     <a href='vscode-notebook-cell:/home/ashmitha/traffic_sign_detection/scripts/quantify.ipynb#Y115sZmlsZQ%3D%3D?line=27'>28</a>\u001b[0m     \u001b[39mreturn\u001b[39;00m all_labels, all_preds\n\u001b[1;32m     <a href='vscode-notebook-cell:/home/ashmitha/traffic_sign_detection/scripts/quantify.ipynb#Y115sZmlsZQ%3D%3D?line=29'>30</a>\u001b[0m \u001b[39m# Collect all predictions and true labels\u001b[39;00m\n\u001b[0;32m---> <a href='vscode-notebook-cell:/home/ashmitha/traffic_sign_detection/scripts/quantify.ipynb#Y115sZmlsZQ%3D%3D?line=30'>31</a>\u001b[0m true_labels, predictions \u001b[39m=\u001b[39m get_predictions(model, test_loader)\n",
      "\u001b[1;32m/home/ashmitha/traffic_sign_detection/scripts/quantify.ipynb Cell 52\u001b[0m line \u001b[0;36m2\n\u001b[1;32m     <a href='vscode-notebook-cell:/home/ashmitha/traffic_sign_detection/scripts/quantify.ipynb#Y115sZmlsZQ%3D%3D?line=21'>22</a>\u001b[0m \u001b[39mfor\u001b[39;00m images, labels \u001b[39min\u001b[39;00m loader:\n\u001b[1;32m     <a href='vscode-notebook-cell:/home/ashmitha/traffic_sign_detection/scripts/quantify.ipynb#Y115sZmlsZQ%3D%3D?line=22'>23</a>\u001b[0m     predictions \u001b[39m=\u001b[39m model(images)  \u001b[39m# Get model predictions\u001b[39;00m\n\u001b[0;32m---> <a href='vscode-notebook-cell:/home/ashmitha/traffic_sign_detection/scripts/quantify.ipynb#Y115sZmlsZQ%3D%3D?line=23'>24</a>\u001b[0m     _, predicted_classes \u001b[39m=\u001b[39m torch\u001b[39m.\u001b[39;49mmax(predictions, \u001b[39m1\u001b[39;49m)\n\u001b[1;32m     <a href='vscode-notebook-cell:/home/ashmitha/traffic_sign_detection/scripts/quantify.ipynb#Y115sZmlsZQ%3D%3D?line=24'>25</a>\u001b[0m     all_preds\u001b[39m.\u001b[39mextend(predicted_classes\u001b[39m.\u001b[39mnumpy())\n\u001b[1;32m     <a href='vscode-notebook-cell:/home/ashmitha/traffic_sign_detection/scripts/quantify.ipynb#Y115sZmlsZQ%3D%3D?line=25'>26</a>\u001b[0m     all_labels\u001b[39m.\u001b[39mextend(labels\u001b[39m.\u001b[39mnumpy())\n",
      "\u001b[0;31mTypeError\u001b[0m: max() received an invalid combination of arguments - got (list, int), but expected one of:\n * (Tensor input, *, Tensor out)\n * (Tensor input, Tensor other, *, Tensor out)\n * (Tensor input, int dim, bool keepdim, *, tuple of Tensors out)\n * (Tensor input, name dim, bool keepdim, *, tuple of Tensors out)\n"
     ]
    }
   ],
   "source": [
    "import torch\n",
    "from torchvision.datasets import ImageFolder\n",
    "from torchvision import transforms\n",
    "from torch.utils.data import DataLoader\n",
    "\n",
    "# Assuming model expects 640x640 images\n",
    "transform = transforms.Compose([\n",
    "    transforms.Resize((640, 640)),\n",
    "    transforms.ToTensor(),\n",
    "])\n",
    "\n",
    "# Load test dataset\n",
    "test_dataset = ImageFolder(root=test_data_path, transform=transform)\n",
    "test_loader = DataLoader(test_dataset, batch_size=32, shuffle=False)\n",
    "\n",
    "# Function to get predictions\n",
    "def get_predictions(model, loader):\n",
    "    all_preds = []\n",
    "    all_labels = []\n",
    "\n",
    "    with torch.no_grad():  # No need to track gradients\n",
    "        for images, labels in loader:\n",
    "            predictions = model(images)  # Get model predictions\n",
    "            _, predicted_classes = torch.max(predictions, 1)\n",
    "            all_preds.extend(predicted_classes.numpy())\n",
    "            all_labels.extend(labels.numpy())\n",
    "\n",
    "    return all_labels, all_preds\n",
    "\n",
    "# Collect all predictions and true labels\n",
    "true_labels, predictions = get_predictions(model, test_loader)\n"
   ]
  },
  {
   "cell_type": "code",
   "execution_count": null,
   "metadata": {},
   "outputs": [],
   "source": [
    "from sklearn.metrics import confusion_matrix\n",
    "import seaborn as sns\n",
    "import matplotlib.pyplot as plt\n",
    "\n",
    "# Generate confusion matrix\n",
    "cm = confusion_matrix(true_labels, predictions)\n",
    "\n",
    "# Plotting\n",
    "plt.figure(figsize=(10, 8))\n",
    "ax = sns.heatmap(cm, annot=True, fmt='d', cmap='Blues')\n",
    "ax.set_xlabel('Predicted Labels')\n",
    "ax.set_ylabel('True Labels')\n",
    "ax.set_title('Confusion Matrix')\n",
    "plt.show()\n"
   ]
  },
  {
   "cell_type": "code",
   "execution_count": 108,
   "metadata": {},
   "outputs": [
    {
     "name": "stderr",
     "output_type": "stream",
     "text": [
      "\n",
      "0: 64x64 40kmhr 1.00, UTurn 0.00, 0 0.00, 8 0.00, 1 0.00, 2.5ms\n",
      "Speed: 0.7ms preprocess, 2.5ms inference, 0.0ms postprocess per image at shape (1, 3, 64, 64)\n"
     ]
    }
   ],
   "source": [
    "image_path = '../data/VGG/test/40kmhr/1.jpg'\n",
    "image = cv2.imread(image_path)\n",
    "\n",
    "# Perform inference on the image\n",
    "predictions = model(image, verbose = True)\n",
    "\n",
    "# Display the inference results"
   ]
  },
  {
   "cell_type": "code",
   "execution_count": 8,
   "metadata": {},
   "outputs": [],
   "source": [
    "true_labels = []\n",
    "predicted_labels = []"
   ]
  },
  {
   "cell_type": "code",
   "execution_count": 9,
   "metadata": {},
   "outputs": [],
   "source": [
    "# Initialize variables to store prediction results\n",
    "total_images = 0\n",
    "correct_predictions = 0\n",
    "\n",
    "test_dir = \"/home/ashmitha/traffic_sign_detection/data/VGG/test/\"\n",
    "\n",
    "# Iterate through each class folder in the test dataset\n",
    "for class_name in os.listdir(test_dir):\n",
    "    class_dir = os.path.join(test_dir, class_name)\n",
    "    \n",
    "    # Iterate through each image in the class folder\n",
    "    for image_file in os.listdir(class_dir):\n",
    "        image_path = os.path.join(class_dir, image_file)\n",
    "        \n",
    "        # Perform prediction on the image\n",
    "        results = model(image_path, verbose = False)\n",
    "\n",
    "        for result in results:\n",
    "            # Get the predicted class labels and probabilities\n",
    "            class_probs = result.probs\n",
    "            class_names = model.names\n",
    "\n",
    "            # Find the index of the class with the highest probability\n",
    "            max_prob_index = class_probs.top1\n",
    "\n",
    "            # Get the predicted class label using the index\n",
    "            predicted_class = class_names[max_prob_index]\n",
    "\n",
    "            true_labels.append(class_name)\n",
    "            predicted_labels.append(predicted_class)\n",
    "\n",
    "\n",
    "\n",
    "        # Update counts\n",
    "        total_images += 1\n",
    "        if predicted_class == class_name:\n",
    "            correct_predictions += 1\n",
    "\n",
    "# Calculate overall accuracy"
   ]
  },
  {
   "cell_type": "code",
   "execution_count": 15,
   "metadata": {},
   "outputs": [
    {
     "data": {
      "text/plain": [
       "['25',\n",
       " '25',\n",
       " '25',\n",
       " '25',\n",
       " '25',\n",
       " '25',\n",
       " '25',\n",
       " '8',\n",
       " '8',\n",
       " '8',\n",
       " '8',\n",
       " '8',\n",
       " '8',\n",
       " '8',\n",
       " '3',\n",
       " '3',\n",
       " '3',\n",
       " '3',\n",
       " '3',\n",
       " '3',\n",
       " '3',\n",
       " '5',\n",
       " '5',\n",
       " '5',\n",
       " '5',\n",
       " '5',\n",
       " '5',\n",
       " '5',\n",
       " '37',\n",
       " '37',\n",
       " '37',\n",
       " '37',\n",
       " '37',\n",
       " '37',\n",
       " '37',\n",
       " '37',\n",
       " '37',\n",
       " '37',\n",
       " '37',\n",
       " '37',\n",
       " '37',\n",
       " '37',\n",
       " '37',\n",
       " '37',\n",
       " '37',\n",
       " '37',\n",
       " '37',\n",
       " '37',\n",
       " '37',\n",
       " '37',\n",
       " '37',\n",
       " '37',\n",
       " '37',\n",
       " '37',\n",
       " '37',\n",
       " '37',\n",
       " '37',\n",
       " '37',\n",
       " '37',\n",
       " '37',\n",
       " '37',\n",
       " '37',\n",
       " '32',\n",
       " '32',\n",
       " '32',\n",
       " '32',\n",
       " '32',\n",
       " '32',\n",
       " '32',\n",
       " '2',\n",
       " '2',\n",
       " '2',\n",
       " '2',\n",
       " '2',\n",
       " '2',\n",
       " '2',\n",
       " '1',\n",
       " '1',\n",
       " '1',\n",
       " '1',\n",
       " '1',\n",
       " '1',\n",
       " '1',\n",
       " '40kmhr',\n",
       " '40kmhr',\n",
       " '40kmhr',\n",
       " '40kmhr',\n",
       " '40kmhr',\n",
       " '40kmhr',\n",
       " '40kmhr',\n",
       " '40kmhr',\n",
       " '7',\n",
       " '7',\n",
       " '7',\n",
       " '7',\n",
       " '7',\n",
       " '7',\n",
       " '7',\n",
       " 'UTurn',\n",
       " 'UTurn',\n",
       " 'UTurn',\n",
       " 'UTurn',\n",
       " 'UTurn',\n",
       " 'UTurn',\n",
       " 'UTurn',\n",
       " '0',\n",
       " '0',\n",
       " '0',\n",
       " '0',\n",
       " '0',\n",
       " '0',\n",
       " '0',\n",
       " '4',\n",
       " '4',\n",
       " '4',\n",
       " '4',\n",
       " '4',\n",
       " '4',\n",
       " '4',\n",
       " '24',\n",
       " '24',\n",
       " '24',\n",
       " '24',\n",
       " '24',\n",
       " '24',\n",
       " '24',\n",
       " '13',\n",
       " '13',\n",
       " '13',\n",
       " '13',\n",
       " '13',\n",
       " '13',\n",
       " '13',\n",
       " '14',\n",
       " '14',\n",
       " '14',\n",
       " '14',\n",
       " '14',\n",
       " '14',\n",
       " '14']"
      ]
     },
     "execution_count": 15,
     "metadata": {},
     "output_type": "execute_result"
    }
   ],
   "source": [
    "true_labels"
   ]
  },
  {
   "cell_type": "code",
   "execution_count": 13,
   "metadata": {},
   "outputs": [],
   "source": [
    "from sklearn.metrics import confusion_matrix\n",
    "import seaborn as sns\n",
    "import matplotlib.pyplot as plt"
   ]
  },
  {
   "cell_type": "code",
   "execution_count": 14,
   "metadata": {},
   "outputs": [
    {
     "data": {
      "text/plain": [
       "<Figure size 1000x800 with 2 Axes>"
      ]
     },
     "metadata": {},
     "output_type": "display_data"
    }
   ],
   "source": [
    "# Create the confusion matrix\n",
    "cm = confusion_matrix(true_labels, predicted_labels, labels=list(set(true_labels)))\n",
    "\n",
    "# Plotting the confusion matrix\n",
    "plt.figure(figsize=(10, 8))\n",
    "sns.heatmap(cm, annot=True, fmt='d', cmap='Blues', xticklabels=set(true_labels), yticklabels=set(true_labels))\n",
    "plt.xlabel('Predicted Labels')\n",
    "plt.ylabel('True Labels')\n",
    "plt.title('Confusion Matrix')\n",
    "plt.show()\n"
   ]
  },
  {
   "cell_type": "code",
   "execution_count": 123,
   "metadata": {},
   "outputs": [],
   "source": [
    "from sklearn.metrics import precision_score, recall_score, f1_score, average_precision_score"
   ]
  },
  {
   "cell_type": "code",
   "execution_count": 126,
   "metadata": {},
   "outputs": [],
   "source": [
    "precision = precision_score(true_labels, predicted_labels, average='weighted')\n",
    "recall = recall_score(true_labels, predicted_labels, average='weighted')\n",
    "f1 = f1_score(true_labels, predicted_labels, average='weighted')"
   ]
  },
  {
   "cell_type": "code",
   "execution_count": 129,
   "metadata": {},
   "outputs": [
    {
     "name": "stdout",
     "output_type": "stream",
     "text": [
      "Precision: 0.9901201493687107\n",
      "Recall: 0.99\n",
      "F1-score: 0.990017630134565\n"
     ]
    }
   ],
   "source": [
    "print(\"Precision:\", precision)\n",
    "print(\"Recall:\", recall)\n",
    "print(\"F1-score:\", f1)"
   ]
  },
  {
   "cell_type": "code",
   "execution_count": 120,
   "metadata": {},
   "outputs": [],
   "source": [
    "accuracy = correct_predictions / total_images\n"
   ]
  },
  {
   "cell_type": "code",
   "execution_count": 121,
   "metadata": {},
   "outputs": [
    {
     "data": {
      "text/plain": [
       "1800"
      ]
     },
     "execution_count": 121,
     "metadata": {},
     "output_type": "execute_result"
    }
   ],
   "source": [
    "total_images"
   ]
  },
  {
   "cell_type": "code",
   "execution_count": 122,
   "metadata": {},
   "outputs": [
    {
     "data": {
      "text/plain": [
       "0.99"
      ]
     },
     "execution_count": 122,
     "metadata": {},
     "output_type": "execute_result"
    }
   ],
   "source": [
    "accuracy"
   ]
  },
  {
   "cell_type": "code",
   "execution_count": 96,
   "metadata": {},
   "outputs": [
    {
     "data": {
      "text/plain": [
       "[['25', '2'],\n",
       " ['8', '2'],\n",
       " ['3', '7'],\n",
       " ['5', '1'],\n",
       " ['32', '7'],\n",
       " ['2', '2'],\n",
       " ['1', '1'],\n",
       " ['40kmhr', '12'],\n",
       " ['7', '1'],\n",
       " ['UTurn', '14'],\n",
       " ['0', '8'],\n",
       " ['4', '2'],\n",
       " ['24', '3'],\n",
       " ['13', '2'],\n",
       " ['14', '1']]"
      ]
     },
     "execution_count": 96,
     "metadata": {},
     "output_type": "execute_result"
    }
   ],
   "source": [
    "preds"
   ]
  }
 ],
 "metadata": {
  "kernelspec": {
   "display_name": "Python 3",
   "language": "python",
   "name": "python3"
  },
  "language_info": {
   "codemirror_mode": {
    "name": "ipython",
    "version": 3
   },
   "file_extension": ".py",
   "mimetype": "text/x-python",
   "name": "python",
   "nbconvert_exporter": "python",
   "pygments_lexer": "ipython3",
   "version": "3.8.10"
  }
 },
 "nbformat": 4,
 "nbformat_minor": 2
}
